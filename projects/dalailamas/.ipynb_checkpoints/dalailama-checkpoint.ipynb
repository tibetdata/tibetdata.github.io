{
 "metadata": {
  "name": "",
  "signature": "sha256:6084b3b2573c60a841b48db046d1c01c5352581398667b5a2a74114dc6422c0b"
 },
 "nbformat": 3,
 "nbformat_minor": 0,
 "worksheets": [
  {
   "cells": [
    {
     "cell_type": "heading",
     "level": 2,
     "metadata": {},
     "source": [
      "Quick glance at the 14 Dalai Lamas of Tibet"
     ]
    },
    {
     "cell_type": "markdown",
     "metadata": {},
     "source": [
      "First, we import our dataset. You can download the dataset here (csv format). We take a look at the shape (14 rows = 14 Dalai Lamas and 9 columns = the column labels shown below)."
     ]
    },
    {
     "cell_type": "code",
     "collapsed": false,
     "input": [
      "import sys,os\n",
      "import pandas as pd\n",
      "import numpy as np\n",
      "import matplotlib\n",
      "import matplotlib.pyplot as plt\n",
      "import seaborn as sns\n",
      "\n",
      "dl = pd.read_csv('data/dalailamas.csv')\n",
      "print(dl.shape) #size of our dataset\n",
      "print(dl) # since this is a smaller dataset - usually recommend dl.head(1) #prints first row of our dataset"
     ],
     "language": "python",
     "metadata": {},
     "outputs": [
      {
       "output_type": "stream",
       "stream": "stdout",
       "text": [
        "(14, 9)\n",
        "                       Name  age  birth_year death_year recognized  \\\n",
        "1               Gendun Drup   82        1391       1474         NA   \n",
        "2             Gendun Gyatso   67        1475       1542         NA   \n",
        "3              Sonam Gyatso   44        1543       1588         NA   \n",
        "4             Yonten Gyatso   28        1589       1617         NA   \n",
        "5    Ngawang Lobsang Gyatso   64        1617       1682       1618   \n",
        "6          Tsangyang Gyatso   23        1683       1706       1688   \n",
        "7            Kelzang Gyatso   49        1707       1757         NA   \n",
        "8            Jamphel Gyatso   46        1758       1804       1760   \n",
        "9            Lungtok Gyatso    9        1805       1815       1807   \n",
        "10          Tsultrim Gyatso   20        1816       1837       1822   \n",
        "11          Khendrup Gyatso   17        1838       1856       1841   \n",
        "12           Trinley Gyatso   18        1857       1875       1858   \n",
        "13           Thubten Gyatso   57        1876       1933       1878   \n",
        "14            Tenzin Gyatso   80        1933         NA       1937   \n",
        "\n",
        "   enthronement                 birth_place        birth_region    country  \n",
        "1            NA   Gyurmey Rupa (near Sakya)             U-Tsang      Tibet  \n",
        "2            NA       Tanak (near Shigatse)             U-Tsang      Tibet  \n",
        "3          1578                  Near Lhasa             U-Tsang      Tibet  \n",
        "4          1603                    Mongolia            Mongolia   Mongolia  \n",
        "5          1622        Lhoka Chingwa Taktse             U-Tsang      Tibet  \n",
        "6          1697                 Tawang Town   Arunachal Pradesh      India  \n",
        "7          1720                     Lithang                Kham      Tibet  \n",
        "8          1762                    Thobgyal             U-Tsang      Tibet  \n",
        "9          1808                 Dan Chokhor                Kham      Tibet  \n",
        "10         1822                     Lithang                Kham      Tibet  \n",
        "11         1842                      Gathar                Kham      Tibet  \n",
        "12         1860                      Lhokha             U-Tsang      Tibet  \n",
        "13         1879              Thakpo Langdun             U-Tsang      Tibet  \n",
        "14         1950                     Taktser                Amdo      Tibet  \n"
       ]
      }
     ],
     "prompt_number": 23
    },
    {
     "cell_type": "markdown",
     "metadata": {},
     "source": [
      "It is usually considered good practise to check your imported data types so that there are no surprises. I have had some frustrating experiences failing to do this during my earlier days - esp. with date formats."
     ]
    },
    {
     "cell_type": "code",
     "collapsed": false,
     "input": [
      "dl.info()"
     ],
     "language": "python",
     "metadata": {},
     "outputs": [
      {
       "output_type": "stream",
       "stream": "stdout",
       "text": [
        "<class 'pandas.core.frame.DataFrame'>\n",
        "Int64Index: 14 entries, 1 to 14\n",
        "Data columns (total 9 columns):\n",
        "Name            14 non-null object\n",
        "age             14 non-null int64\n",
        "birth_year      14 non-null int64\n",
        "death_year      14 non-null object\n",
        "recognized      14 non-null object\n",
        "enthronement    14 non-null object\n",
        "birth_place     14 non-null object\n",
        "birth_region    14 non-null object\n",
        "country         14 non-null object\n",
        "dtypes: int64(2), object(7)\n",
        "memory usage: 1.1+ KB\n"
       ]
      }
     ],
     "prompt_number": 13
    },
    {
     "cell_type": "heading",
     "level": 3,
     "metadata": {},
     "source": [
      "Ages of Dalai Lamas:"
     ]
    },
    {
     "cell_type": "markdown",
     "metadata": {},
     "source": [
      "I have always been curious to see the ages of our 14 Dalai Lamas. I knew our present Dalai Lama had lived the longest and wanted to see where his predecessors ranked. "
     ]
    },
    {
     "cell_type": "code",
     "collapsed": false,
     "input": [
      "%matplotlib inline\n",
      "\n",
      "color_regions = ['Amdo', 'U-Tsang', 'Kham', 'Mongolia', 'Arunachal Pradesh']\n",
      "color_list = ['b', 'g', 'r', 'c']\n",
      "\n",
      "\n",
      "#Figure details\n",
      "fig=plt.figure(figsize=(10,5))\n",
      "plt.yticks(fontsize=8)\n",
      "dl['age'].plot(kind='bar',fontsize=12, color='k')\n",
      "plt.xlabel('')\n",
      "plt.ylabel('Ages of Dalai Lamas', fontsize=13)\n",
      "plt.legend(color_list, color_regions)\n",
      "#plt.legend(handles=[color_regions, color_list])\n"
     ],
     "language": "python",
     "metadata": {},
     "outputs": [
      {
       "metadata": {},
       "output_type": "pyout",
       "prompt_number": 28,
       "text": [
        "<matplotlib.legend.Legend at 0x10cc5fbe0>"
       ]
      },
      {
       "metadata": {},
       "output_type": "display_data",
       "png": "[encoded data removed]",
       "text": [
        "<matplotlib.figure.Figure at 0x10d5dac88>"
       ]
      }
     ],
     "prompt_number": 28
    },
    {
     "cell_type": "markdown",
     "metadata": {},
     "source": [
      "As you can see from the graph above, the first Dalai Lama has lived the longest. He was born in 1391 and died in 1474. Although the data set is taken from the Wikipedia page, even Shakabpa's book, <i><a href=\"https://www.powells.com/biblio/1-2221135965242-0\" target=\"_blank\"> Tibet, A Political History</a></i> quotes the first Dalai Lama's age at 84. He does mention in the footnote that two other books quote the age at 82. Regardless, living until 80 years is remarkably long for someone born in the late fourteenth (no pun intended) century. This <a href=\"http://mappinghistory.uoregon.edu/english/US/US39-01.html\" target=\"_blank\"> mapping history </a> initiative by University of Oregon begins at 1850 and even then the average life expectancy for someone at 1850 is under 40 years old. It should be noted that this life expectancy is based on men at birth and if they did live until 60, the maximum life expectancy was around 72 years old at <b>1850</b>. Something to think about.\n",
      "\n",
      "However, what we do know for a fact is the first Dalai Lama, Gedun Druppa received teachings directly from Tsongkhapa, founder of Gelugpa-sect. Gedup Druppa also founded the Tashi Lhunpo monastery in Shigaste (western Tibet) and was called Panchen Gedun Druppa.\n",
      "\n",
      "Another interesting argument we could make based on this age graph is that the more powerful Dalai Lamas lived a longer life. The fifth Dalai Lama was considered one of the most important rulers in Tibet's history. The 13th and 14th Dalai Lamas lives are well-documented to understand the challenges faced by them.\n",
      "\n",
      "I have listed below some of the interesting facts based on Shakabpa's book. Note that Shakabpa was a finance minister and hence the member of the ruling elites when Tibet lost its independence. Therefore, even though it helps us peek into the minds of the ruling elites, one has to take a critical approach and recognize this important bias when reading the book. I do think the book does a good job of covering the Tibet's past history (including the Dalai Lamas). For Tibet's history past 1900, it would be good to read Tsering Shakya's book , <i><a href=\"https://www.powells.com/biblio/2-9780140196153-9\" target=\"_blank\">Dragon in the Land of Snows: A history of Modern Tibet since 1947</a></i>.\n",
      "\n",
      "Back to interesting facts now. Here we go:\n",
      "<ol>\n",
      "<li>The second Dalai Lama, Gedun Gyatso, founded the monastery of Chokhorgyal in 1509 (about 90 miles southeast of Lhasa). There is a lake nearby whose reflections are reputed to prophesy future events and led to discoveries of the 13th and 14th incarnations of Dalai Lama.</li>\n",
      "<li>The title of Dalai Lama was given to the third Dalai Lama, Sonam Gyatso by Altan Khan of Tumat Mongols in 1578. On his journey back to Lhasa from Mongolia, the third Dalai Lama visited Kokonor (built a monastery there as it was Tsongkhapa's birth place) and the region of Kham (including Lithang and Chamdo). Altan Khan passed away and the third Dalai Lama went to Mongolia and lived there for two years. He passed away at the start of his journey back to Tibet. </li>\n",
      "<li>Not surprisingly, the fourth Dalai Lama was born in Mongolia. This led to a close spiritual relationship between Mongolia and TIbet and the Gelug-pa sect emerged as the stronger group. The Sakya-pa sect, whose influence dated from the time of Sakya Pandita, began to wane.\n",
      "\n",
      "Another interesting fact to note is that Yonten Gyatso, the fourth Dalai Lama, was tutored by Lobsang Chosang from Tashi Lhunpo monastery. He received the title of Panchen Lama (meaning \"Great Scholar\"). Since then, his reincarnations have been known as Panchen Lama.</li>\n",
      "<li>The reign of the fourth and fifth Dalai Lamas were the time of religious wars with different regional rulers (Beri, U, Tsang, Kham) siding with their respective sects/religion (Gelug-pa, Kagyu-pa, Bon, etc.). Ngawang Lobsang Gyatso, the fifth Dalai Lama successfully got many of the regions under his control with help from Gusri Khan and Desi Sonam Chospel. This \"Desi\" title was equivalent to that of a prime minister and for the first time, the Dalai Lama had become the temporal and spiritual leader of Tibet (although all the political matters were handled by Desi).</li>\n",
      "</ol>"
     ]
    },
    {
     "cell_type": "markdown",
     "metadata": {},
     "source": [
      "Next, I want to take a look at the birth regions of the Dalai Lama. I am intrigued by the birth of the fourth Dalai Lama in Mongolia. Were were there any other cases where the Dalai Lama was born outside of Tibet?"
     ]
    },
    {
     "cell_type": "heading",
     "level": 3,
     "metadata": {},
     "source": [
      "Birth regions of Dalai Lamas:"
     ]
    },
    {
     "cell_type": "code",
     "collapsed": false,
     "input": [
      "def plotdat(data,category):\n",
      "    l=data.groupby(category).size() #group our meteorites by their types\n",
      "    l.sort() #sort them in ascending order\n",
      "    #l_tail = l.tail(20) #select top 20\n",
      "    \n",
      "    #Figure details\n",
      "    fig=plt.figure(figsize=(10,5))\n",
      "    plt.yticks(fontsize=8)\n",
      "    l.plot(kind='bar',fontsize=12,color='k')\n",
      "    plt.xlabel('')\n",
      "    plt.ylabel('Count', fontsize=10)\n",
      "    \n",
      "plotdat(dl, 'birth_region')"
     ],
     "language": "python",
     "metadata": {},
     "outputs": [
      {
       "metadata": {},
       "output_type": "display_data",
       "png": "[encoded data removed]",
       "text": [
        "<matplotlib.figure.Figure at 0x10cb067f0>"
       ]
      }
     ],
     "prompt_number": 15
    },
    {
     "cell_type": "markdown",
     "metadata": {},
     "source": [
      "We see that one of the Dalai Lamas was born in present-day Arunachal Pradesh, India. It would not be surprising to see if this region was in fact under Tibet's rule back then. Based on our table above, Tsangyang Gyatso, the sixth Dalai Lama was born in Arunachal Pradesh. Shakabpa's book mentions that Sangye Gyatso had become the Desi during the fifth Dalai Lama's reign and concealed the Dalai Lama's death for a period of fifteen years. The explanation given to the officials and subjects then was that the Dalai Lama had gone into meditation for an indefinite period and could not be disturbed.\n",
      "\n",
      "Desi Sangye Gyatso was an excellent administrator (and a powerful one) but had trouble with the sixth Dalai Lama who wanted to renounce his monastic vows. During this period, Sangye Gyatso was forced to resign and ultimately killed by Lhazang Khan's men. Lhazang Khan deposed the sixth Dalai Lama and sent him into exile. Tsangyang Gyatso is believed to have died in the Kokonor region. Lhazang Khan then announced the sixth Dalai Lama was not the true reincarnation and appointed Nawang Yeshe Gyatso as the true rebirth and enthroned him in Potala as the \"real\" sixth Dalai Lama. However, the Tibetans never accepted it and when there were reports of the reincarnation of the sixth Dalai Lama in Lithang. Certain Mongol tribes sympathetic of the sixth Dalai Lama heard of this discovery and decided to offer the boy recognition and protection. The boy was escorted from Derge to the Kokonor region where he was warmly received by the Mongols. Even the Manchus saw this as an opportunity to extend their influence and sent their representative! Is history repeating itself again?\n",
      "\n",
      "<ul>\n",
      "<li> How did the seventh Dalai Lama, Kelzang Gyatso, get rid of Lhazang Khan and become the ruler of Tibet again? You will have to do your own research. </li>\n",
      "<li> Is there any lessons for Tibetans to learn from the past regarding controversial reincarnations? </li>\n",
      "<li> Is there any correlaton between the life expectancy of the Dalai Lama and the power of Desi (or regents later on)? </li>\n",
      "</ul>\n",
      "\n",
      "These questions are not for us Tibetans to make judgements about our past. In fact, one should learn and analyze these facts critically so we do not repeat them again. We have paid a great price by losing our nation and Tibetans inside Tibet continue to suffer under the authotarian Chinese regime. If we fail to learn from our past again, we are bound to pay a greater price and that is something we cannot afford to do. Bod Gyalo!\n"
     ]
    }
   ],
   "metadata": {}
  }
 ]
}